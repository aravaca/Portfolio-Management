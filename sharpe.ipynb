{
 "cells": [
  {
   "cell_type": "code",
   "execution_count": 384,
   "id": "129485fd",
   "metadata": {},
   "outputs": [],
   "source": [
    "import yfinance as yf\n",
    "import pandas as pd\n",
    "from pandas_datareader import data as pdr\n",
    "import datetime as dt\n",
    "import numpy as np\n",
    "import scipy as scipy\n",
    "from scipy.optimize import minimize\n",
    "import sys\n",
    "\n",
    "BACKTEST = 5 #years\n",
    "LOWER_BOUND = 0 #increase for diversification \n",
    "UPPER_BOUND = 0.4\n",
    "NUM_OF_SIMULATIONS = 5000 #for monte carlo simulation\n",
    "lambda_penalty = 0 #increase for robustness & diversificaiton, try 0.1 ~ 10"
   ]
  },
  {
   "cell_type": "code",
   "execution_count": 385,
   "id": "5379d2ed",
   "metadata": {},
   "outputs": [],
   "source": [
    "endDate = dt.datetime.today() + dt.timedelta(hours = 9) #한국 시간 기준\n",
    "startDate = endDate - dt.timedelta(days = 365 * BACKTEST)\n",
    "\n",
    "#tickers = ['SPY', 'SCHD', 'QQQ', 'BTC-USD']\n",
    "tickers = ['BTC-USD', 'AAPL', 'MSFT', 'NVDA', 'GOOG', 'AMZN', 'META', 'BRK-B', 'AVGO', 'TSM', 'WMT', 'LLY', 'JPM']"
   ]
  },
  {
   "cell_type": "code",
   "execution_count": 386,
   "id": "006e8ad3",
   "metadata": {},
   "outputs": [
    {
     "name": "stderr",
     "output_type": "stream",
     "text": [
      "[*********************100%***********************]  1 of 1 completed"
     ]
    },
    {
     "name": "stderr",
     "output_type": "stream",
     "text": [
      "\n",
      "[*********************100%***********************]  1 of 1 completed\n",
      "[*********************100%***********************]  1 of 1 completed\n",
      "[*********************100%***********************]  1 of 1 completed\n",
      "[*********************100%***********************]  1 of 1 completed\n",
      "[*********************100%***********************]  1 of 1 completed\n",
      "[*********************100%***********************]  1 of 1 completed\n",
      "[*********************100%***********************]  1 of 1 completed\n",
      "[*********************100%***********************]  1 of 1 completed\n",
      "[*********************100%***********************]  1 of 1 completed\n",
      "[*********************100%***********************]  1 of 1 completed\n",
      "[*********************100%***********************]  1 of 1 completed\n",
      "[*********************100%***********************]  1 of 1 completed"
     ]
    },
    {
     "name": "stdout",
     "output_type": "stream",
     "text": [
      "                BTC-USD       AAPL        MSFT      NVDA       GOOG  \\\n",
      "Date                                                                  \n",
      "2020-05-09  9593.896484        NaN         NaN       NaN        NaN   \n",
      "2020-05-10  8756.430664        NaN         NaN       NaN        NaN   \n",
      "2020-05-11  8601.795898  76.653244  178.743576  8.035893  69.832237   \n",
      "2020-05-12  8804.477539  75.777245  174.694717  7.773859  68.462730   \n",
      "2020-05-13  9269.987305  74.862312  172.052887  7.751441  67.148460   \n",
      "\n",
      "                  AMZN        META       BRK-B       AVGO        TSM  \\\n",
      "Date                                                                   \n",
      "2020-05-09         NaN         NaN         NaN        NaN        NaN   \n",
      "2020-05-10         NaN         NaN         NaN        NaN        NaN   \n",
      "2020-05-11  120.449997  212.179977  174.639999  24.240078  47.833664   \n",
      "2020-05-12  117.847504  209.114426  172.809998  23.628351  46.646946   \n",
      "2020-05-13  118.396004  204.137909  170.570007  23.161850  46.482635   \n",
      "\n",
      "                  WMT         LLY        JPM  \n",
      "Date                                          \n",
      "2020-05-09        NaN         NaN        NaN  \n",
      "2020-05-10        NaN         NaN        NaN  \n",
      "2020-05-11  38.477886  149.116226  78.288574  \n",
      "2020-05-12  38.512112  148.335617  75.730278  \n",
      "2020-05-13  38.490337  148.533112  73.119797  \n"
     ]
    },
    {
     "name": "stderr",
     "output_type": "stream",
     "text": [
      "\n"
     ]
    }
   ],
   "source": [
    "adj_close_df = pd.DataFrame()\n",
    "\n",
    "for ticker in tickers:\n",
    "    data = yf.download(ticker, start = startDate, end = endDate)\n",
    "    adj_close_df[ticker] = data['Close']\n",
    "\n",
    "print(adj_close_df.head())"
   ]
  },
  {
   "cell_type": "code",
   "execution_count": 387,
   "id": "8f1da10e",
   "metadata": {},
   "outputs": [],
   "source": [
    "log_returns = np.log(adj_close_df/adj_close_df.shift(1))\n",
    "log_returns = log_returns.dropna()"
   ]
  },
  {
   "cell_type": "code",
   "execution_count": 388,
   "id": "4d0983ac",
   "metadata": {},
   "outputs": [
    {
     "name": "stdout",
     "output_type": "stream",
     "text": [
      "          BTC-USD      AAPL      MSFT      NVDA      GOOG      AMZN      META  \\\n",
      "BTC-USD  0.281938  0.045413  0.049353  0.081330  0.049868  0.056108  0.055240   \n",
      "AAPL     0.045413  0.089481  0.056219  0.090845  0.055785  0.066889  0.074759   \n",
      "MSFT     0.049353  0.056219  0.077508  0.096669  0.060914  0.071273  0.076178   \n",
      "NVDA     0.081330  0.090845  0.096669  0.276172  0.093413  0.115687  0.129028   \n",
      "GOOG     0.049868  0.055785  0.060914  0.093413  0.101032  0.076460  0.089148   \n",
      "AMZN     0.056108  0.066889  0.071273  0.115687  0.076460  0.135901  0.106863   \n",
      "META     0.055240  0.074759  0.076178  0.129028  0.089148  0.106863  0.219829   \n",
      "BRK-B    0.024428  0.024914  0.020739  0.031130  0.023787  0.025004  0.028071   \n",
      "AVGO     0.057529  0.065733  0.062980  0.143151  0.061385  0.077955  0.085350   \n",
      "TSM      0.049975  0.054268  0.052150  0.132149  0.055088  0.065675  0.076385   \n",
      "WMT      0.016365  0.020154  0.016282  0.022491  0.016390  0.022577  0.018994   \n",
      "LLY      0.014337  0.023807  0.021618  0.036375  0.019784  0.024596  0.032434   \n",
      "JPM      0.038191  0.026566  0.021940  0.040892  0.027336  0.030000  0.034167   \n",
      "\n",
      "            BRK-B      AVGO       TSM       WMT       LLY       JPM  \n",
      "BTC-USD  0.024428  0.057529  0.049975  0.016365  0.014337  0.038191  \n",
      "AAPL     0.024914  0.065733  0.054268  0.020154  0.023807  0.026566  \n",
      "MSFT     0.020739  0.062980  0.052150  0.016282  0.021618  0.021940  \n",
      "NVDA     0.031130  0.143151  0.132149  0.022491  0.036375  0.040892  \n",
      "GOOG     0.023787  0.061385  0.055088  0.016390  0.019784  0.027336  \n",
      "AMZN     0.025004  0.077955  0.065675  0.022577  0.024596  0.030000  \n",
      "META     0.028071  0.085350  0.076385  0.018994  0.032434  0.034167  \n",
      "BRK-B    0.032888  0.026288  0.022019  0.012753  0.013996  0.035403  \n",
      "AVGO     0.026288  0.163661  0.098900  0.018669  0.031804  0.037541  \n",
      "TSM      0.022019  0.098900  0.143199  0.013175  0.021672  0.032589  \n",
      "WMT      0.012753  0.018669  0.013175  0.048677  0.014553  0.011608  \n",
      "LLY      0.013996  0.031804  0.021672  0.014553  0.105528  0.013628  \n",
      "JPM      0.035403  0.037541  0.032589  0.011608  0.013628  0.072251  \n"
     ]
    }
   ],
   "source": [
    "cov_matrix = log_returns.cov() * 252\n",
    "print(cov_matrix)"
   ]
  },
  {
   "cell_type": "code",
   "execution_count": 389,
   "id": "faf7c672",
   "metadata": {},
   "outputs": [],
   "source": [
    "def standard_deviation (weights, cov_matrix):\n",
    "    variance = weights.T @ cov_matrix @ weights\n",
    "    return np.sqrt(variance)"
   ]
  },
  {
   "cell_type": "code",
   "execution_count": 390,
   "id": "ee0843b1",
   "metadata": {},
   "outputs": [],
   "source": [
    "def expected_return (weights, log_returns):\n",
    "    return np.sum(log_returns.mean() * weights)*252"
   ]
  },
  {
   "cell_type": "code",
   "execution_count": 391,
   "id": "77235e95",
   "metadata": {},
   "outputs": [],
   "source": [
    "def sharpe_ratio (weights, log_returns, cov_matrix, risk_free_rate):\n",
    "    return (expected_return (weights, log_returns) - risk_free_rate) / standard_deviation (weights, cov_matrix)"
   ]
  },
  {
   "cell_type": "code",
   "execution_count": null,
   "id": "d3b50dd7",
   "metadata": {},
   "outputs": [
    {
     "name": "stderr",
     "output_type": "stream",
     "text": [
      "/tmp/ipykernel_4419/3437368303.py:6: FutureWarning: Series.__getitem__ treating keys as positions is deprecated. In a future version, integer keys will always be treated as labels (consistent with DataFrame behavior). To access a value by position, use `ser.iloc[pos]`\n",
      "  risk_free_rate = ten_year_treasury_rate[-1]\n"
     ]
    }
   ],
   "source": [
    "from fredapi import Fred\n",
    "#https://fredaccount.stlouisfed.org/apikey\n",
    "fred = Fred(api_key = '')\n",
    "ten_year_treasury_rate = fred.get_series_latest_release('GS10') / 100\n",
    "\n",
    "risk_free_rate = ten_year_treasury_rate[-1]\n",
    "# print(risk_free_rate)"
   ]
  },
  {
   "cell_type": "code",
   "execution_count": 393,
   "id": "c451979b",
   "metadata": {},
   "outputs": [],
   "source": [
    "#핵심\n",
    "#OPTIMIZE the portfolio using different techniques here like\n",
    "# monte carlo simulation, mathematical optimization, etc\n",
    "# other alternatives include black-litterman model, min variance, \n",
    "# max diversification/risk pairty, \n",
    "\n",
    "def neg_sharpe_ratio(weights, log_returns, cov_matrix, risk_free_rate):\n",
    "    return -sharpe_ratio(weights, log_returns, cov_matrix, risk_free_rate) + (lambda_penalty * np.sum(weights**2))\n",
    "\n",
    "constraints = {'type': 'eq', 'fun': lambda weights: np.sum(weights) - 1}\n",
    "\n",
    "#say you wanna fix AVGO's weight to be exactly 0.25. if you want it to be at least 0.25, change 'eq' to 'ineq'\n",
    "#constraints = [{'type': 'eq', 'fun': lambda weights: np.sum(weights) - 1}, \n",
    "#               {'type': 'eq', 'fun': lambda weights: weights[tickers.index('AVGO')] - 0.25}]\n",
    "bounds = [(LOWER_BOUND, UPPER_BOUND) for _ in range(len(tickers))]\n",
    "initial_weights = np.array([1/len(tickers)]*len(tickers))"
   ]
  },
  {
   "cell_type": "code",
   "execution_count": 394,
   "id": "60f4f11b",
   "metadata": {},
   "outputs": [],
   "source": [
    "optimized_results = minimize(neg_sharpe_ratio, initial_weights, args=(log_returns, cov_matrix, risk_free_rate), method='SLSQP', constraints=constraints, bounds=bounds)"
   ]
  },
  {
   "cell_type": "code",
   "execution_count": 395,
   "id": "875c5527",
   "metadata": {},
   "outputs": [],
   "source": [
    "optimal_weights = optimized_results.x #.x gets the results"
   ]
  },
  {
   "cell_type": "code",
   "execution_count": 405,
   "id": "7b2afc01",
   "metadata": {},
   "outputs": [],
   "source": [
    "# print(\"Optimal Weights:\")\n",
    "# for ticker, weight in zip(tickers, optimal_weights):\n",
    "#     print(f\"{ticker}: {weight:.4f}\")\n",
    "\n",
    "# optimal_portfolio_return = expected_return(optimal_weights, log_returns)\n",
    "# optimal_portfolio_volatility = standard_deviation(optimal_weights, cov_matrix)\n",
    "# optimal_sharpe_ratio = sharpe_ratio(optimal_weights, log_returns, cov_matrix, risk_free_rate)\n",
    "\n",
    "# print(f\"Expected Annual Return: {optimal_portfolio_return:.4f}\")\n",
    "# print(f\"Expected Volatility: {optimal_portfolio_volatility:.4f}\")\n",
    "# print(f\"Sharpe Ratio: {optimal_sharpe_ratio:.4f}\")"
   ]
  },
  {
   "cell_type": "code",
   "execution_count": 404,
   "id": "6775aa3e",
   "metadata": {},
   "outputs": [],
   "source": [
    "import matplotlib.pyplot as plt\n",
    "\n",
    "# plt.figure(figsize=(10, 6))\n",
    "# plt.bar(tickers, optimal_weights)\n",
    "\n",
    "# plt.xlabel('Assets')\n",
    "# plt.ylabel('Optimal Weights')\n",
    "# plt.title('Optimal Portfolio Weights')\n",
    "\n",
    "# plt.show()"
   ]
  },
  {
   "cell_type": "code",
   "execution_count": 398,
   "id": "b3b09f10",
   "metadata": {},
   "outputs": [],
   "source": [
    "# Initialize the components, to run a Monte Carlo Simulation.\n",
    "number_of_symbols = len(tickers)\n",
    "# We will run 5000 iterations.\n",
    "num_of_portfolios = NUM_OF_SIMULATIONS\n",
    "\n",
    "float_formatter = \"{:.2f}\".format\n",
    "\n",
    "# Prep an array to store the weights as they are generated, 5000 iterations for each of our 4 symbols.\n",
    "all_weights = np.zeros((num_of_portfolios, number_of_symbols))\n",
    "\n",
    "# Prep an array to store the returns as they are generated, 5000 possible return values.\n",
    "ret_arr = np.zeros(num_of_portfolios)\n",
    "\n",
    "# Prep an array to store the volatilities as they are generated, 5000 possible volatility values.\n",
    "vol_arr = np.zeros(num_of_portfolios)\n",
    "\n",
    "# Prep an array to store the sharpe ratios as they are generated, 5000 possible Sharpe Ratios.\n",
    "sharpe_arr = np.zeros(num_of_portfolios)\n",
    "\n",
    "# Start the simulations.\n",
    "for ind in range(num_of_portfolios):\n",
    "\n",
    "    # First, calculate the weights.\n",
    "    weights = np.array(np.random.random(number_of_symbols))\n",
    "    weights = weights / np.sum(weights)\n",
    "\n",
    "    # Add the weights, to the `weights_arrays`.\n",
    "    all_weights[ind, :] = weights\n",
    "\n",
    "    # Calculate the expected log returns, and add them to the `returns_array`.\n",
    "    ret_arr[ind] = np.sum((log_returns.mean() * weights) * 252)\n",
    "\n",
    "    # Calculate the volatility, and add them to the `volatility_array`.\n",
    "    vol_arr[ind] = np.sqrt(\n",
    "        np.dot(weights.T, np.dot(log_returns.cov() * 252, weights))\n",
    "    )\n",
    "\n",
    "    # Calculate the Sharpe Ratio and Add it to the `sharpe_ratio_array`.\n",
    "    sharpe_arr[ind] = ret_arr[ind]/vol_arr[ind]\n",
    "\n",
    "# Let's create our \"Master Data Frame\", with the weights, the returns, the volatility, and the Sharpe Ratio\n",
    "\n",
    "simulations_data = [ret_arr, vol_arr, sharpe_arr, np.round(all_weights, 4)]\n",
    "# Create a DataFrame from it, then Transpose it so it looks like our original one.\n",
    "simulations_df = pd.DataFrame(data=simulations_data).T\n",
    "\n",
    "data = {\n",
    "    'Portfolio Weights': [\n",
    "        np.random.rand(10).tolist() for _ in range(5000)\n",
    "    ]\n",
    "}\n",
    "df = pd.DataFrame(data)\n",
    "\n",
    "# Set Pandas to display all columns and rows\n",
    "pd.set_option('display.max_rows', None)  # To display all rows\n",
    "pd.set_option('display.max_columns', None)  # To display all columns\n",
    "pd.set_option('display.max_colwidth', None)  # To prevent truncation of column values\n",
    "\n",
    "# Give the columns the Proper Names.\n",
    "simulations_df.columns = [\n",
    "    'Returns',\n",
    "    'Volatility',\n",
    "    'Sharpe Ratio',\n",
    "    'Portfolio Weights'\n",
    "]\n",
    "\n",
    "# Make sure the data types are correct, we don't want our floats to be strings.\n",
    "simulations_df = simulations_df.infer_objects()\n",
    "\n",
    "# Print out the results.\n",
    "MAX_LINE = 200\n",
    "# print('')\n",
    "# print('='*MAX_LINE)\n",
    "# print('SIMULATIONS RESULT:')\n",
    "# print('-'*MAX_LINE)\n",
    "# with np.printoptions(threshold=sys.maxsize):\n",
    "#     print(simulations_df)\n",
    "# print('-'*MAX_LINE)"
   ]
  },
  {
   "cell_type": "code",
   "execution_count": 399,
   "id": "9c366700",
   "metadata": {},
   "outputs": [
    {
     "name": "stdout",
     "output_type": "stream",
     "text": [
      "\n",
      "========================================================================================================================================================================================================\n",
      "MAX SHARPE RATIO:\n",
      "--------------------------------------------------------------------------------------------------------------------------------------------------------------------------------------------------------\n",
      "Returns                                                                                                              0.290243\n",
      "Volatility                                                                                                           0.201672\n",
      "Sharpe Ratio                                                                                                         1.439185\n",
      "Portfolio Weights    [0.1031, 0.0874, 0.0385, 0.0155, 0.0035, 0.0001, 0.0319, 0.1713, 0.1316, 0.0494, 0.0781, 0.1902, 0.0994]\n",
      "Name: 2704, dtype: object\n",
      "--------------------------------------------------------------------------------------------------------------------------------------------------------------------------------------------------------\n",
      "\n",
      "========================================================================================================================================================================================================\n",
      "MIN VOLATILITY:\n",
      "--------------------------------------------------------------------------------------------------------------------------------------------------------------------------------------------------------\n",
      "Returns                                                                                                             0.203789\n",
      "Volatility                                                                                                          0.187041\n",
      "Sharpe Ratio                                                                                                        1.089544\n",
      "Portfolio Weights    [0.0044, 0.0895, 0.149, 0.0038, 0.1597, 0.0484, 0.0089, 0.0722, 0.0017, 0.0047, 0.1846, 0.0939, 0.1791]\n",
      "Name: 1666, dtype: object\n",
      "--------------------------------------------------------------------------------------------------------------------------------------------------------------------------------------------------------\n"
     ]
    }
   ],
   "source": [
    "# Return the Max Sharpe Ratio from the run.\n",
    "max_sharpe_ratio = simulations_df.loc[simulations_df['Sharpe Ratio'].idxmax()]\n",
    "monte_carlo_max_sharpe_weights = max_sharpe_ratio.loc['Portfolio Weights']\n",
    "# Return the Min Volatility from the run.\n",
    "min_volatility = simulations_df.loc[simulations_df['Volatility'].idxmin()]\n",
    "monte_carlo_min_vol_weights = min_volatility.loc['Portfolio Weights']\n",
    "\n",
    "print('')\n",
    "print('='*MAX_LINE)\n",
    "print('MAX SHARPE RATIO:')\n",
    "print('-'*MAX_LINE)\n",
    "print(max_sharpe_ratio)\n",
    "print('-'*MAX_LINE)\n",
    "\n",
    "print('')\n",
    "print('='*MAX_LINE)\n",
    "print('MIN VOLATILITY:')\n",
    "print('-'*MAX_LINE)\n",
    "print(min_volatility)\n",
    "print('-'*MAX_LINE)"
   ]
  },
  {
   "cell_type": "markdown",
   "id": "1254e10e",
   "metadata": {},
   "source": [
    "Re-reun SLSQP Optimization with weights from Monte Carlo simulation as initial guess to land a global Sharpe Maximum and enhance results"
   ]
  },
  {
   "cell_type": "code",
   "execution_count": 400,
   "id": "446b9ace",
   "metadata": {},
   "outputs": [],
   "source": [
    "optimized_results_max_sharpe = minimize(neg_sharpe_ratio, monte_carlo_max_sharpe_weights, args=(log_returns, cov_matrix, risk_free_rate), method='SLSQP', constraints=constraints, bounds=bounds)\n",
    "optimized_results_min_vol = minimize(neg_sharpe_ratio, monte_carlo_min_vol_weights, args=(log_returns, cov_matrix, risk_free_rate), method='SLSQP', constraints=constraints, bounds=bounds)"
   ]
  },
  {
   "cell_type": "code",
   "execution_count": 401,
   "id": "204c46e9",
   "metadata": {},
   "outputs": [
    {
     "name": "stdout",
     "output_type": "stream",
     "text": [
      "Optimal Weights - Monte Carlo Adjusted:\n",
      "BTC-USD: 0.0468\n",
      "AAPL: 0.0000\n",
      "MSFT: 0.0000\n",
      "NVDA: 0.0954\n",
      "GOOG: 0.0000\n",
      "AMZN: 0.0000\n",
      "META: 0.0000\n",
      "BRK-B: 0.4000\n",
      "AVGO: 0.1695\n",
      "TSM: 0.0000\n",
      "WMT: 0.0000\n",
      "LLY: 0.2883\n",
      "JPM: 0.0000\n",
      "Expected Annual Return: 0.3410\n",
      "Expected Volatility: 0.2091\n",
      "Sharpe Ratio: 1.4262\n"
     ]
    }
   ],
   "source": [
    "optimal_weights = optimized_results_max_sharpe.x\n",
    "# optimal_weights = optimized_results_min_vol.x\n",
    "\n",
    "print(\"Optimal Weights - Monte Carlo Adjusted:\")\n",
    "for ticker, weight in zip(tickers, optimal_weights):\n",
    "    print(f\"{ticker}: {weight:.4f}\")\n",
    "\n",
    "optimal_portfolio_return = expected_return(optimal_weights, log_returns)\n",
    "optimal_portfolio_volatility = standard_deviation(optimal_weights, cov_matrix)\n",
    "optimal_sharpe_ratio = sharpe_ratio(optimal_weights, log_returns, cov_matrix, risk_free_rate)\n",
    "\n",
    "print(f\"Expected Annual Return: {optimal_portfolio_return:.4f}\")\n",
    "print(f\"Expected Volatility: {optimal_portfolio_volatility:.4f}\")\n",
    "print(f\"Sharpe Ratio: {optimal_sharpe_ratio:.4f}\")"
   ]
  },
  {
   "cell_type": "code",
   "execution_count": 402,
   "id": "2784f17d",
   "metadata": {},
   "outputs": [
    {
     "data": {
      "image/png": "[encoded data removed]",
      "text/plain": [
       "<Figure size 1000x600 with 1 Axes>"
      ]
     },
     "metadata": {},
     "output_type": "display_data"
    }
   ],
   "source": [
    "plt.figure(figsize=(10, 6))\n",
    "plt.bar(tickers, optimal_weights)\n",
    "\n",
    "plt.xlabel('Assets')\n",
    "plt.ylabel('Optimal Weights')\n",
    "plt.title('Optimal Portfolio Weights')\n",
    "\n",
    "plt.show()"
   ]
  }
 ],
 "metadata": {
  "kernelspec": {
   "display_name": "Python 3",
   "language": "python",
   "name": "python3"
  },
  "language_info": {
   "codemirror_mode": {
    "name": "ipython",
    "version": 3
   },
   "file_extension": ".py",
   "mimetype": "text/x-python",
   "name": "python",
   "nbconvert_exporter": "python",
   "pygments_lexer": "ipython3",
   "version": "3.12.1"
  }
 },
 "nbformat": 4,
 "nbformat_minor": 5
}
