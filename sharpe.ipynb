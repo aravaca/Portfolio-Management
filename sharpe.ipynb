{
 "cells": [
  {
   "cell_type": "code",
   "execution_count": 430,
   "id": "129485fd",
   "metadata": {},
   "outputs": [],
   "source": [
    "import yfinance as yf\n",
    "import pandas as pd\n",
    "from pandas_datareader import data as pdr\n",
    "import datetime as dt\n",
    "import numpy as np\n",
    "import scipy as scipy\n",
    "from scipy.optimize import minimize\n",
    "\n",
    "YEAR = 15\n",
    "UPPER_BOUND = 0.7"
   ]
  },
  {
   "cell_type": "code",
   "execution_count": 431,
   "id": "5379d2ed",
   "metadata": {},
   "outputs": [],
   "source": [
    "endDate = dt.datetime.today() + dt.timedelta(hours = 9) #한국 시간 기준\n",
    "startDate = endDate - dt.timedelta(days = 365 * YEAR)\n",
    "\n",
    "tickers = ['SPY', 'SCHD', 'QQQ']\n",
    "# tickers = ['SPY', 'SCHD', 'QQQ', 'AAPL', 'MSFT', 'NVDA', 'GOOG', 'AMZN', 'META', 'BRK-B', 'AVGO', 'TSM', 'WMT', 'LLY', 'JPM']"
   ]
  },
  {
   "cell_type": "code",
   "execution_count": 432,
   "id": "006e8ad3",
   "metadata": {},
   "outputs": [
    {
     "name": "stderr",
     "output_type": "stream",
     "text": [
      "[*********************100%***********************]  1 of 1 completed\n",
      "[*********************100%***********************]  1 of 1 completed\n",
      "[*********************100%***********************]  1 of 1 completed"
     ]
    },
    {
     "name": "stdout",
     "output_type": "stream",
     "text": [
      "                   SPY       SCHD         QQQ\n",
      "Date                                         \n",
      "2010-05-10   88.272224        NaN   41.707703\n",
      "2010-05-11   88.021454        NaN   41.664066\n",
      "2010-05-12   89.252541        NaN   42.449829\n",
      "2010-05-13   88.143036        NaN   41.777554\n",
      "2010-05-14   86.547188        NaN   40.974308\n",
      "...                ...        ...         ...\n",
      "2025-04-29  554.320007  25.889999  475.529999\n",
      "2025-04-30  554.539978  25.820000  475.470001\n",
      "2025-05-01  558.469971  25.709999  481.679993\n",
      "2025-05-02  566.760010  26.059999  488.829987\n",
      "2025-05-05  563.510010  25.799999  485.929993\n",
      "\n",
      "[3771 rows x 3 columns]\n"
     ]
    },
    {
     "name": "stderr",
     "output_type": "stream",
     "text": [
      "\n"
     ]
    }
   ],
   "source": [
    "adj_close_df = pd.DataFrame()\n",
    "\n",
    "for ticker in tickers:\n",
    "    data = yf.download(ticker, start = startDate, end = endDate)\n",
    "    adj_close_df[ticker] = data['Close']\n",
    "\n",
    "print(adj_close_df)"
   ]
  },
  {
   "cell_type": "code",
   "execution_count": 433,
   "id": "8f1da10e",
   "metadata": {},
   "outputs": [],
   "source": [
    "log_returns = np.log(adj_close_df/adj_close_df.shift(1))\n",
    "log_returns = log_returns.dropna()"
   ]
  },
  {
   "cell_type": "code",
   "execution_count": 434,
   "id": "4d0983ac",
   "metadata": {},
   "outputs": [
    {
     "name": "stdout",
     "output_type": "stream",
     "text": [
      "           SPY      SCHD       QQQ\n",
      "SPY   0.029172  0.024385  0.033115\n",
      "SCHD  0.024385  0.024895  0.024633\n",
      "QQQ   0.033115  0.024633  0.043409\n"
     ]
    }
   ],
   "source": [
    "cov_matrix = log_returns.cov() * 252\n",
    "print(cov_matrix)"
   ]
  },
  {
   "cell_type": "code",
   "execution_count": 435,
   "id": "faf7c672",
   "metadata": {},
   "outputs": [],
   "source": [
    "def standard_deviation (weights, cov_matrix):\n",
    "    variance = weights.T @ cov_matrix @ weights\n",
    "    return np.sqrt(variance)"
   ]
  },
  {
   "cell_type": "code",
   "execution_count": 436,
   "id": "ee0843b1",
   "metadata": {},
   "outputs": [],
   "source": [
    "def expected_return (weights, log_returns):\n",
    "    return np.sum(log_returns.mean() * weights)*252"
   ]
  },
  {
   "cell_type": "code",
   "execution_count": 437,
   "id": "77235e95",
   "metadata": {},
   "outputs": [],
   "source": [
    "def sharpe_ratio (weights, log_returns, cov_matrix, risk_free_rate):\n",
    "    return (expected_return (weights, log_returns) - risk_free_rate) / standard_deviation (weights, cov_matrix)"
   ]
  },
  {
   "cell_type": "code",
   "execution_count": null,
   "id": "d3b50dd7",
   "metadata": {},
   "outputs": [
    {
     "name": "stderr",
     "output_type": "stream",
     "text": [
      "/tmp/ipykernel_23527/1429742868.py:5: FutureWarning: Series.__getitem__ treating keys as positions is deprecated. In a future version, integer keys will always be treated as labels (consistent with DataFrame behavior). To access a value by position, use `ser.iloc[pos]`\n",
      "  risk_free_rate = ten_year_treasury_rate[-1]\n"
     ]
    }
   ],
   "source": [
    "from fredapi import Fred\n",
    "# https://fredaccount.stlouisfed.org/apikey\n",
    "fred = Fred(api_key = '')\n",
    "ten_year_treasury_rate = fred.get_series_latest_release('GS10') / 100\n",
    "\n",
    "risk_free_rate = ten_year_treasury_rate[-1]\n",
    "# print(risk_free_rate)"
   ]
  },
  {
   "cell_type": "code",
   "execution_count": 439,
   "id": "c451979b",
   "metadata": {},
   "outputs": [],
   "source": [
    "#핵심\n",
    "#OPTIMIZE the portfolio using different techniques here like\n",
    "# monte carlo simulation, mathematical optimization, etc\n",
    "# other alternatives include black-litterman model, min variance, \n",
    "# max diversification/risk pairty, \n",
    "\n",
    "def neg_sharpe_ratio(weights, log_returns, cov_matrix, risk_free_rate):\n",
    "    return -sharpe_ratio(weights, log_returns, cov_matrix, risk_free_rate)\n",
    "\n",
    "constraints = {'type': 'eq', 'fun': lambda weights: np.sum(weights) - 1}\n",
    "bounds = [(0, UPPER_BOUND) for _ in range(len(tickers))]\n",
    "initial_weights = np.array([1/len(tickers)]*len(tickers))"
   ]
  },
  {
   "cell_type": "code",
   "execution_count": 440,
   "id": "60f4f11b",
   "metadata": {},
   "outputs": [],
   "source": [
    "optimized_results = minimize(neg_sharpe_ratio, initial_weights, args=(log_returns, cov_matrix, risk_free_rate), method='SLSQP', constraints=constraints, bounds=bounds)"
   ]
  },
  {
   "cell_type": "code",
   "execution_count": 441,
   "id": "875c5527",
   "metadata": {},
   "outputs": [],
   "source": [
    "optimal_weights = optimized_results.x #.x gets the results"
   ]
  },
  {
   "cell_type": "code",
   "execution_count": 442,
   "id": "7b2afc01",
   "metadata": {},
   "outputs": [
    {
     "name": "stdout",
     "output_type": "stream",
     "text": [
      "Optimal Weights:\n",
      "SPY: 0.3000\n",
      "SCHD: 0.0000\n",
      "QQQ: 0.7000\n",
      "Expected Annual Return: 0.1573\n",
      "Expected Volatility: 0.1944\n",
      "Sharpe Ratio: 0.5888\n"
     ]
    }
   ],
   "source": [
    "print(\"Optimal Weights:\")\n",
    "for ticker, weight in zip(tickers, optimal_weights):\n",
    "    print(f\"{ticker}: {weight:.4f}\")\n",
    "\n",
    "optimal_portfolio_return = expected_return(optimal_weights, log_returns)\n",
    "optimal_portfolio_volatility = standard_deviation(optimal_weights, cov_matrix)\n",
    "optimal_sharpe_ratio = sharpe_ratio(optimal_weights, log_returns, cov_matrix, risk_free_rate)\n",
    "\n",
    "print(f\"Expected Annual Return: {optimal_portfolio_return:.4f}\")\n",
    "print(f\"Expected Volatility: {optimal_portfolio_volatility:.4f}\")\n",
    "print(f\"Sharpe Ratio: {optimal_sharpe_ratio:.4f}\")"
   ]
  },
  {
   "cell_type": "code",
   "execution_count": 443,
   "id": "6775aa3e",
   "metadata": {},
   "outputs": [
    {
     "data": {
      "image/png": "[encoded data removed]",
      "text/plain": [
       "<Figure size 1000x600 with 1 Axes>"
      ]
     },
     "metadata": {},
     "output_type": "display_data"
    }
   ],
   "source": [
    "import matplotlib.pyplot as plt\n",
    "\n",
    "plt.figure(figsize=(10, 6))\n",
    "plt.bar(tickers, optimal_weights)\n",
    "\n",
    "plt.xlabel('Assets')\n",
    "plt.ylabel('Optimal Weights')\n",
    "plt.title('Optimal Portfolio Weights')\n",
    "\n",
    "plt.show()"
   ]
  }
 ],
 "metadata": {
  "kernelspec": {
   "display_name": "Python 3",
   "language": "python",
   "name": "python3"
  },
  "language_info": {
   "codemirror_mode": {
    "name": "ipython",
    "version": 3
   },
   "file_extension": ".py",
   "mimetype": "text/x-python",
   "name": "python",
   "nbconvert_exporter": "python",
   "pygments_lexer": "ipython3",
   "version": "3.12.1"
  }
 },
 "nbformat": 4,
 "nbformat_minor": 5
}
