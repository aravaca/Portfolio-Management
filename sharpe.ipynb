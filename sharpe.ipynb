{
 "cells": [
  {
   "cell_type": "code",
   "execution_count": null,
   "id": "129485fd",
   "metadata": {},
   "outputs": [],
   "source": [
    "import yfinance as yf\n",
    "import pandas as pd\n",
    "from pandas_datareader import data as pdr\n",
    "import datetime as dt\n",
    "import numpy as np\n",
    "import scipy as scipy\n",
    "from scipy.optimize import minimize\n",
    "\n",
    "BACKTEST = 5\n",
    "UPPER_BOUND = 0.4"
   ]
  },
  {
   "cell_type": "code",
   "execution_count": null,
   "id": "5379d2ed",
   "metadata": {},
   "outputs": [],
   "source": [
    "endDate = dt.datetime.today() + dt.timedelta(hours = 9) #한국 시간 기준\n",
    "startDate = endDate - dt.timedelta(days = 365 * BACKTEST)\n",
    "\n",
    "# tickers = ['SPY', 'SCHD', 'QQQ', 'VIG', 'VXUS']\n",
    "tickers = ['AAPL', 'MSFT', 'NVDA', 'GOOG', 'AMZN', 'META', 'BRK-B', 'AVGO', 'TSM', 'WMT', 'LLY', 'JPM']"
   ]
  },
  {
   "cell_type": "code",
   "execution_count": 942,
   "id": "006e8ad3",
   "metadata": {},
   "outputs": [
    {
     "name": "stderr",
     "output_type": "stream",
     "text": [
      "[*********************100%***********************]  1 of 1 completed\n",
      "[*********************100%***********************]  1 of 1 completed"
     ]
    },
    {
     "name": "stderr",
     "output_type": "stream",
     "text": [
      "\n",
      "[*********************100%***********************]  1 of 1 completed\n",
      "[*********************100%***********************]  1 of 1 completed\n",
      "[*********************100%***********************]  1 of 1 completed\n",
      "[*********************100%***********************]  1 of 1 completed\n",
      "[*********************100%***********************]  1 of 1 completed\n",
      "[*********************100%***********************]  1 of 1 completed\n",
      "[*********************100%***********************]  1 of 1 completed\n",
      "[*********************100%***********************]  1 of 1 completed\n",
      "[*********************100%***********************]  1 of 1 completed\n",
      "[*********************100%***********************]  1 of 1 completed"
     ]
    },
    {
     "name": "stdout",
     "output_type": "stream",
     "text": [
      "                  AAPL        MSFT        NVDA        GOOG        AMZN  \\\n",
      "Date                                                                     \n",
      "2020-05-07   73.711327  175.738022    7.593772   68.304474  118.380501   \n",
      "2020-05-08   75.465775  176.771744    7.783823   69.091255  118.980499   \n",
      "2020-05-11   76.653259  178.743546    8.035895   69.832237  120.449997   \n",
      "2020-05-12   75.777237  174.694672    7.773859   68.462738  117.847504   \n",
      "2020-05-13   74.862297  172.052841    7.751441   67.148460  118.396004   \n",
      "...                ...         ...         ...         ...         ...   \n",
      "2025-04-29  211.210007  394.040009  109.019997  162.059998  187.389999   \n",
      "2025-04-30  212.500000  395.260010  108.919998  160.889999  184.419998   \n",
      "2025-05-01  213.320007  425.399994  111.610001  162.789993  190.199997   \n",
      "2025-05-02  205.350006  435.279999  114.500000  165.809998  189.979996   \n",
      "2025-05-05  198.889999  436.170013  113.820000  166.050003  186.350006   \n",
      "\n",
      "                  META       BRK-B        AVGO         TSM        WMT  \\\n",
      "Date                                                                    \n",
      "2020-05-07  210.268982  173.479996   23.566738   47.769764  37.924072   \n",
      "2020-05-08  211.353897  176.830002   24.207508   48.299213  38.250755   \n",
      "2020-05-11  212.179977  174.639999   24.240072   47.833652  38.477890   \n",
      "2020-05-12  209.114441  172.809998   23.628345   46.646950  38.512100   \n",
      "2020-05-13  204.137909  170.570007   23.161854   46.482628  38.490334   \n",
      "...                ...         ...         ...         ...        ...   \n",
      "2025-04-29  554.440002  534.570007  191.169998  164.479996  96.040001   \n",
      "2025-04-30  549.000000  533.250000  192.470001  166.690002  97.250000   \n",
      "2025-05-01  572.210022  530.229980  197.330002  172.720001  97.410004   \n",
      "2025-05-02  597.020020  539.799988  203.639999  179.279999  98.750000   \n",
      "2025-05-05  599.270020  512.150024  200.720001  176.399994  99.330002   \n",
      "\n",
      "                   LLY         JPM  \n",
      "Date                                \n",
      "2020-05-07  143.868240   79.367577  \n",
      "2020-05-08  144.376099   80.664116  \n",
      "2020-05-11  149.116241   78.288567  \n",
      "2020-05-12  148.335587   75.730293  \n",
      "2020-05-13  148.533112   73.119812  \n",
      "...                ...         ...  \n",
      "2025-04-29  885.200012  244.619995  \n",
      "2025-04-30  898.950012  244.619995  \n",
      "2025-05-01  794.099976  246.889999  \n",
      "2025-05-02  823.619995  252.509995  \n",
      "2025-05-05  821.460022  252.559998  \n",
      "\n",
      "[1255 rows x 12 columns]\n"
     ]
    },
    {
     "name": "stderr",
     "output_type": "stream",
     "text": [
      "\n"
     ]
    }
   ],
   "source": [
    "adj_close_df = pd.DataFrame()\n",
    "\n",
    "for ticker in tickers:\n",
    "    data = yf.download(ticker, start = startDate, end = endDate)\n",
    "    adj_close_df[ticker] = data['Close']\n",
    "\n",
    "print(adj_close_df)"
   ]
  },
  {
   "cell_type": "code",
   "execution_count": 943,
   "id": "8f1da10e",
   "metadata": {},
   "outputs": [],
   "source": [
    "log_returns = np.log(adj_close_df/adj_close_df.shift(1))\n",
    "log_returns = log_returns.dropna()"
   ]
  },
  {
   "cell_type": "code",
   "execution_count": 944,
   "id": "4d0983ac",
   "metadata": {},
   "outputs": [
    {
     "name": "stdout",
     "output_type": "stream",
     "text": [
      "           AAPL      MSFT      NVDA      GOOG      AMZN      META     BRK-B  \\\n",
      "AAPL   0.089080  0.054435  0.086056  0.053968  0.063184  0.068926  0.023466   \n",
      "MSFT   0.054435  0.073714  0.092940  0.058303  0.066765  0.071200  0.018807   \n",
      "NVDA   0.086056  0.092940  0.277871  0.090631  0.109360  0.119007  0.025228   \n",
      "GOOG   0.053968  0.058303  0.090631  0.094802  0.072199  0.083277  0.022336   \n",
      "AMZN   0.063184  0.066765  0.109360  0.072199  0.126469  0.097986  0.021592   \n",
      "META   0.068926  0.071200  0.119007  0.083277  0.097986  0.198352  0.024380   \n",
      "BRK-B  0.023466  0.018807  0.025228  0.022336  0.021592  0.024380  0.034235   \n",
      "AVGO   0.060478  0.060346  0.142463  0.060189  0.072447  0.078465  0.021990   \n",
      "TSM    0.051550  0.050508  0.133684  0.053676  0.062307  0.071050  0.018012   \n",
      "WMT    0.019341  0.015891  0.020119  0.015614  0.020670  0.018885  0.012066   \n",
      "LLY    0.020977  0.020295  0.032804  0.017893  0.020906  0.028520  0.013315   \n",
      "JPM    0.024421  0.020429  0.036455  0.026321  0.026788  0.030394  0.035312   \n",
      "\n",
      "           AVGO       TSM       WMT       LLY       JPM  \n",
      "AAPL   0.060478  0.051550  0.019341  0.020977  0.024421  \n",
      "MSFT   0.060346  0.050508  0.015891  0.020295  0.020429  \n",
      "NVDA   0.142463  0.133684  0.020119  0.032804  0.036455  \n",
      "GOOG   0.060189  0.053676  0.015614  0.017893  0.026321  \n",
      "AMZN   0.072447  0.062307  0.020670  0.020906  0.026788  \n",
      "META   0.078465  0.071050  0.018885  0.028520  0.030394  \n",
      "BRK-B  0.021990  0.018012  0.012066  0.013315  0.035312  \n",
      "AVGO   0.162514  0.099363  0.016129  0.024422  0.034498  \n",
      "TSM    0.099363  0.145396  0.011543  0.018624  0.030903  \n",
      "WMT    0.016129  0.011543  0.044516  0.013296  0.011646  \n",
      "LLY    0.024422  0.018624  0.013296  0.100341  0.011362  \n",
      "JPM    0.034498  0.030903  0.011646  0.011362  0.073381  \n"
     ]
    }
   ],
   "source": [
    "cov_matrix = log_returns.cov() * 252\n",
    "print(cov_matrix)"
   ]
  },
  {
   "cell_type": "code",
   "execution_count": 945,
   "id": "faf7c672",
   "metadata": {},
   "outputs": [],
   "source": [
    "def standard_deviation (weights, cov_matrix):\n",
    "    variance = weights.T @ cov_matrix @ weights\n",
    "    return np.sqrt(variance)"
   ]
  },
  {
   "cell_type": "code",
   "execution_count": 946,
   "id": "ee0843b1",
   "metadata": {},
   "outputs": [],
   "source": [
    "def expected_return (weights, log_returns):\n",
    "    return np.sum(log_returns.mean() * weights)*252"
   ]
  },
  {
   "cell_type": "code",
   "execution_count": 947,
   "id": "77235e95",
   "metadata": {},
   "outputs": [],
   "source": [
    "def sharpe_ratio (weights, log_returns, cov_matrix, risk_free_rate):\n",
    "    return (expected_return (weights, log_returns) - risk_free_rate) / standard_deviation (weights, cov_matrix)"
   ]
  },
  {
   "cell_type": "code",
   "execution_count": null,
   "id": "d3b50dd7",
   "metadata": {},
   "outputs": [
    {
     "name": "stderr",
     "output_type": "stream",
     "text": [
      "/tmp/ipykernel_23527/1429742868.py:5: FutureWarning: Series.__getitem__ treating keys as positions is deprecated. In a future version, integer keys will always be treated as labels (consistent with DataFrame behavior). To access a value by position, use `ser.iloc[pos]`\n",
      "  risk_free_rate = ten_year_treasury_rate[-1]\n"
     ]
    }
   ],
   "source": [
    "from fredapi import Fred\n",
    "fred = Fred(api_key = '')\n",
    "ten_year_treasury_rate = fred.get_series_latest_release('GS10') / 100\n",
    "\n",
    "risk_free_rate = ten_year_treasury_rate[-1]\n",
    "# print(risk_free_rate)"
   ]
  },
  {
   "cell_type": "code",
   "execution_count": 949,
   "id": "c451979b",
   "metadata": {},
   "outputs": [],
   "source": [
    "#핵심\n",
    "#OPTIMIZE the portfolio using different techniques here like\n",
    "# monte carlo simulation, mathematical optimization, etc\n",
    "# other alternatives include black-litterman model, min variance, \n",
    "# max diversification/risk pairty, \n",
    "\n",
    "def neg_sharpe_ratio(weights, log_returns, cov_matrix, risk_free_rate):\n",
    "    return -sharpe_ratio(weights, log_returns, cov_matrix, risk_free_rate)\n",
    "\n",
    "constraints = {'type': 'eq', 'fun': lambda weights: np.sum(weights) - 1}\n",
    "bounds = [(0, UPPER_BOUND) for _ in range(len(tickers))]\n",
    "initial_weights = np.array([1/len(tickers)]*len(tickers))"
   ]
  },
  {
   "cell_type": "code",
   "execution_count": 950,
   "id": "60f4f11b",
   "metadata": {},
   "outputs": [],
   "source": [
    "optimized_results = minimize(neg_sharpe_ratio, initial_weights, args=(log_returns, cov_matrix, risk_free_rate), method='SLSQP', constraints=constraints, bounds=bounds)"
   ]
  },
  {
   "cell_type": "code",
   "execution_count": 951,
   "id": "875c5527",
   "metadata": {},
   "outputs": [],
   "source": [
    "optimal_weights = optimized_results.x #.x gets the results"
   ]
  },
  {
   "cell_type": "code",
   "execution_count": 952,
   "id": "7b2afc01",
   "metadata": {},
   "outputs": [
    {
     "name": "stdout",
     "output_type": "stream",
     "text": [
      "Optimal Weights:\n",
      "AAPL: 0.0000\n",
      "MSFT: 0.0000\n",
      "NVDA: 0.0957\n",
      "GOOG: 0.0000\n",
      "AMZN: 0.0000\n",
      "META: 0.0000\n",
      "BRK-B: 0.3440\n",
      "AVGO: 0.1191\n",
      "TSM: 0.0000\n",
      "WMT: 0.1766\n",
      "LLY: 0.2646\n",
      "JPM: 0.0000\n",
      "Expected Annual Return: 0.3050\n",
      "Expected Volatility: 0.1836\n",
      "Sharpe Ratio: 1.4278\n"
     ]
    }
   ],
   "source": [
    "print(\"Optimal Weights:\")\n",
    "for ticker, weight in zip(tickers, optimal_weights):\n",
    "    print(f\"{ticker}: {weight:.4f}\")\n",
    "\n",
    "optimal_portfolio_return = expected_return(optimal_weights, log_returns)\n",
    "optimal_portfolio_volatility = standard_deviation(optimal_weights, cov_matrix)\n",
    "optimal_sharpe_ratio = sharpe_ratio(optimal_weights, log_returns, cov_matrix, risk_free_rate)\n",
    "\n",
    "print(f\"Expected Annual Return: {optimal_portfolio_return:.4f}\")\n",
    "print(f\"Expected Volatility: {optimal_portfolio_volatility:.4f}\")\n",
    "print(f\"Sharpe Ratio: {optimal_sharpe_ratio:.4f}\")"
   ]
  },
  {
   "cell_type": "code",
   "execution_count": 953,
   "id": "6775aa3e",
   "metadata": {},
   "outputs": [
    {
     "data": {
      "image/png": "[encoded data removed]",
      "text/plain": [
       "<Figure size 1000x600 with 1 Axes>"
      ]
     },
     "metadata": {},
     "output_type": "display_data"
    }
   ],
   "source": [
    "import matplotlib.pyplot as plt\n",
    "\n",
    "plt.figure(figsize=(10, 6))\n",
    "plt.bar(tickers, optimal_weights)\n",
    "\n",
    "plt.xlabel('Assets')\n",
    "plt.ylabel('Optimal Weights')\n",
    "plt.title('Optimal Portfolio Weights')\n",
    "\n",
    "plt.show()"
   ]
  }
 ],
 "metadata": {
  "kernelspec": {
   "display_name": "Python 3",
   "language": "python",
   "name": "python3"
  },
  "language_info": {
   "codemirror_mode": {
    "name": "ipython",
    "version": 3
   },
   "file_extension": ".py",
   "mimetype": "text/x-python",
   "name": "python",
   "nbconvert_exporter": "python",
   "pygments_lexer": "ipython3",
   "version": "3.12.1"
  }
 },
 "nbformat": 4,
 "nbformat_minor": 5
}
